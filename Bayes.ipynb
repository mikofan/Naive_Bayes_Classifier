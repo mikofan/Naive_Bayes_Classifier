{
 "cells": [
  {
   "cell_type": "code",
   "execution_count": 1,
   "metadata": {},
   "outputs": [],
   "source": [
    "import pandas as pd\n",
    "import matplotlib.pyplot as plt\n",
    "import numpy as np\n",
    "import math\n",
    "#下一行可以让数据集在单元格中嵌入化显示\n",
    "%matplotlib inline"
   ]
  },
  {
   "cell_type": "markdown",
   "metadata": {},
   "source": [
    "导入数据集"
   ]
  },
  {
   "cell_type": "code",
   "execution_count": 2,
   "metadata": {},
   "outputs": [],
   "source": [
    "dataset_test = pd.read_csv('data/testdata.csv')\n",
    "dataset_train = pd.read_csv('data/traindata.csv')"
   ]
  },
  {
   "cell_type": "markdown",
   "metadata": {},
   "source": [
    "查看一下导入的数据"
   ]
  },
  {
   "cell_type": "code",
   "execution_count": 3,
   "metadata": {},
   "outputs": [
    {
     "data": {
      "text/html": [
       "<div>\n",
       "<style scoped>\n",
       "    .dataframe tbody tr th:only-of-type {\n",
       "        vertical-align: middle;\n",
       "    }\n",
       "\n",
       "    .dataframe tbody tr th {\n",
       "        vertical-align: top;\n",
       "    }\n",
       "\n",
       "    .dataframe thead th {\n",
       "        text-align: right;\n",
       "    }\n",
       "</style>\n",
       "<table border=\"1\" class=\"dataframe\">\n",
       "  <thead>\n",
       "    <tr style=\"text-align: right;\">\n",
       "      <th></th>\n",
       "      <th>gender</th>\n",
       "      <th>height</th>\n",
       "      <th>weight</th>\n",
       "    </tr>\n",
       "  </thead>\n",
       "  <tbody>\n",
       "    <tr>\n",
       "      <th>0</th>\n",
       "      <td>Male</td>\n",
       "      <td>180</td>\n",
       "      <td>72.0</td>\n",
       "    </tr>\n",
       "    <tr>\n",
       "      <th>1</th>\n",
       "      <td>Male</td>\n",
       "      <td>169</td>\n",
       "      <td>68.0</td>\n",
       "    </tr>\n",
       "    <tr>\n",
       "      <th>2</th>\n",
       "      <td>Male</td>\n",
       "      <td>181</td>\n",
       "      <td>72.0</td>\n",
       "    </tr>\n",
       "    <tr>\n",
       "      <th>3</th>\n",
       "      <td>Male</td>\n",
       "      <td>175</td>\n",
       "      <td>61.0</td>\n",
       "    </tr>\n",
       "    <tr>\n",
       "      <th>4</th>\n",
       "      <td>Male</td>\n",
       "      <td>172</td>\n",
       "      <td>55.0</td>\n",
       "    </tr>\n",
       "  </tbody>\n",
       "</table>\n",
       "</div>"
      ],
      "text/plain": [
       "  gender  height  weight\n",
       "0   Male     180    72.0\n",
       "1   Male     169    68.0\n",
       "2   Male     181    72.0\n",
       "3   Male     175    61.0\n",
       "4   Male     172    55.0"
      ]
     },
     "execution_count": 3,
     "metadata": {},
     "output_type": "execute_result"
    }
   ],
   "source": [
    "dataset_test.head()"
   ]
  },
  {
   "cell_type": "code",
   "execution_count": 4,
   "metadata": {},
   "outputs": [
    {
     "data": {
      "text/html": [
       "<div>\n",
       "<style scoped>\n",
       "    .dataframe tbody tr th:only-of-type {\n",
       "        vertical-align: middle;\n",
       "    }\n",
       "\n",
       "    .dataframe tbody tr th {\n",
       "        vertical-align: top;\n",
       "    }\n",
       "\n",
       "    .dataframe thead th {\n",
       "        text-align: right;\n",
       "    }\n",
       "</style>\n",
       "<table border=\"1\" class=\"dataframe\">\n",
       "  <thead>\n",
       "    <tr style=\"text-align: right;\">\n",
       "      <th></th>\n",
       "      <th>gender</th>\n",
       "      <th>height</th>\n",
       "      <th>weight</th>\n",
       "    </tr>\n",
       "  </thead>\n",
       "  <tbody>\n",
       "    <tr>\n",
       "      <th>0</th>\n",
       "      <td>Male</td>\n",
       "      <td>175.0</td>\n",
       "      <td>65.0</td>\n",
       "    </tr>\n",
       "    <tr>\n",
       "      <th>1</th>\n",
       "      <td>Male</td>\n",
       "      <td>172.0</td>\n",
       "      <td>64.3</td>\n",
       "    </tr>\n",
       "    <tr>\n",
       "      <th>2</th>\n",
       "      <td>Male</td>\n",
       "      <td>176.0</td>\n",
       "      <td>63.0</td>\n",
       "    </tr>\n",
       "    <tr>\n",
       "      <th>3</th>\n",
       "      <td>Male</td>\n",
       "      <td>175.0</td>\n",
       "      <td>60.0</td>\n",
       "    </tr>\n",
       "    <tr>\n",
       "      <th>4</th>\n",
       "      <td>Male</td>\n",
       "      <td>160.0</td>\n",
       "      <td>75.0</td>\n",
       "    </tr>\n",
       "  </tbody>\n",
       "</table>\n",
       "</div>"
      ],
      "text/plain": [
       "  gender  height  weight\n",
       "0   Male   175.0    65.0\n",
       "1   Male   172.0    64.3\n",
       "2   Male   176.0    63.0\n",
       "3   Male   175.0    60.0\n",
       "4   Male   160.0    75.0"
      ]
     },
     "execution_count": 4,
     "metadata": {},
     "output_type": "execute_result"
    }
   ],
   "source": [
    "dataset_train.head()"
   ]
  },
  {
   "cell_type": "code",
   "execution_count": 5,
   "metadata": {},
   "outputs": [
    {
     "data": {
      "text/plain": [
       "(100, 3)"
      ]
     },
     "execution_count": 5,
     "metadata": {},
     "output_type": "execute_result"
    }
   ],
   "source": [
    "dataset_test.shape"
   ]
  },
  {
   "cell_type": "code",
   "execution_count": 6,
   "metadata": {},
   "outputs": [
    {
     "data": {
      "text/plain": [
       "(100, 3)"
      ]
     },
     "execution_count": 6,
     "metadata": {},
     "output_type": "execute_result"
    }
   ],
   "source": [
    "dataset_train.shape"
   ]
  },
  {
   "cell_type": "markdown",
   "metadata": {
    "slideshow": {
     "slide_type": "slide"
    },
    "tags": [
     "parameters"
    ]
   },
   "source": [
    "先处理训练集"
   ]
  },
  {
   "cell_type": "code",
   "execution_count": 7,
   "metadata": {},
   "outputs": [],
   "source": [
    "#先分开取出男女数据\n",
    "dataset_male_train = dataset_train[dataset_train['gender'] == 'Male']\n",
    "dataset_female_train = dataset_train[dataset_train['gender'] == 'Female']"
   ]
  },
  {
   "cell_type": "code",
   "execution_count": 8,
   "metadata": {},
   "outputs": [
    {
     "data": {
      "text/html": [
       "<div>\n",
       "<style scoped>\n",
       "    .dataframe tbody tr th:only-of-type {\n",
       "        vertical-align: middle;\n",
       "    }\n",
       "\n",
       "    .dataframe tbody tr th {\n",
       "        vertical-align: top;\n",
       "    }\n",
       "\n",
       "    .dataframe thead th {\n",
       "        text-align: right;\n",
       "    }\n",
       "</style>\n",
       "<table border=\"1\" class=\"dataframe\">\n",
       "  <thead>\n",
       "    <tr style=\"text-align: right;\">\n",
       "      <th></th>\n",
       "      <th>gender</th>\n",
       "      <th>height</th>\n",
       "      <th>weight</th>\n",
       "    </tr>\n",
       "  </thead>\n",
       "  <tbody>\n",
       "    <tr>\n",
       "      <th>0</th>\n",
       "      <td>Male</td>\n",
       "      <td>175.0</td>\n",
       "      <td>65.0</td>\n",
       "    </tr>\n",
       "    <tr>\n",
       "      <th>1</th>\n",
       "      <td>Male</td>\n",
       "      <td>172.0</td>\n",
       "      <td>64.3</td>\n",
       "    </tr>\n",
       "    <tr>\n",
       "      <th>2</th>\n",
       "      <td>Male</td>\n",
       "      <td>176.0</td>\n",
       "      <td>63.0</td>\n",
       "    </tr>\n",
       "    <tr>\n",
       "      <th>3</th>\n",
       "      <td>Male</td>\n",
       "      <td>175.0</td>\n",
       "      <td>60.0</td>\n",
       "    </tr>\n",
       "    <tr>\n",
       "      <th>4</th>\n",
       "      <td>Male</td>\n",
       "      <td>160.0</td>\n",
       "      <td>75.0</td>\n",
       "    </tr>\n",
       "  </tbody>\n",
       "</table>\n",
       "</div>"
      ],
      "text/plain": [
       "  gender  height  weight\n",
       "0   Male   175.0    65.0\n",
       "1   Male   172.0    64.3\n",
       "2   Male   176.0    63.0\n",
       "3   Male   175.0    60.0\n",
       "4   Male   160.0    75.0"
      ]
     },
     "execution_count": 8,
     "metadata": {},
     "output_type": "execute_result"
    }
   ],
   "source": [
    "dataset_male_train.head()"
   ]
  },
  {
   "cell_type": "code",
   "execution_count": 9,
   "metadata": {},
   "outputs": [
    {
     "data": {
      "text/html": [
       "<div>\n",
       "<style scoped>\n",
       "    .dataframe tbody tr th:only-of-type {\n",
       "        vertical-align: middle;\n",
       "    }\n",
       "\n",
       "    .dataframe tbody tr th {\n",
       "        vertical-align: top;\n",
       "    }\n",
       "\n",
       "    .dataframe thead th {\n",
       "        text-align: right;\n",
       "    }\n",
       "</style>\n",
       "<table border=\"1\" class=\"dataframe\">\n",
       "  <thead>\n",
       "    <tr style=\"text-align: right;\">\n",
       "      <th></th>\n",
       "      <th>gender</th>\n",
       "      <th>height</th>\n",
       "      <th>weight</th>\n",
       "    </tr>\n",
       "  </thead>\n",
       "  <tbody>\n",
       "    <tr>\n",
       "      <th>50</th>\n",
       "      <td>Female</td>\n",
       "      <td>168.0</td>\n",
       "      <td>55.0</td>\n",
       "    </tr>\n",
       "    <tr>\n",
       "      <th>51</th>\n",
       "      <td>Female</td>\n",
       "      <td>165.3</td>\n",
       "      <td>54.5</td>\n",
       "    </tr>\n",
       "    <tr>\n",
       "      <th>52</th>\n",
       "      <td>Female</td>\n",
       "      <td>169.0</td>\n",
       "      <td>57.0</td>\n",
       "    </tr>\n",
       "    <tr>\n",
       "      <th>53</th>\n",
       "      <td>Female</td>\n",
       "      <td>163.0</td>\n",
       "      <td>50.0</td>\n",
       "    </tr>\n",
       "    <tr>\n",
       "      <th>54</th>\n",
       "      <td>Female</td>\n",
       "      <td>164.0</td>\n",
       "      <td>50.0</td>\n",
       "    </tr>\n",
       "  </tbody>\n",
       "</table>\n",
       "</div>"
      ],
      "text/plain": [
       "    gender  height  weight\n",
       "50  Female   168.0    55.0\n",
       "51  Female   165.3    54.5\n",
       "52  Female   169.0    57.0\n",
       "53  Female   163.0    50.0\n",
       "54  Female   164.0    50.0"
      ]
     },
     "execution_count": 9,
     "metadata": {},
     "output_type": "execute_result"
    }
   ],
   "source": [
    "dataset_female_train.head()"
   ]
  },
  {
   "cell_type": "code",
   "execution_count": 10,
   "metadata": {},
   "outputs": [
    {
     "data": {
      "text/plain": [
       "(50, 3)"
      ]
     },
     "execution_count": 10,
     "metadata": {},
     "output_type": "execute_result"
    }
   ],
   "source": [
    "dataset_male_train.shape"
   ]
  },
  {
   "cell_type": "code",
   "execution_count": 11,
   "metadata": {},
   "outputs": [
    {
     "data": {
      "text/plain": [
       "(50, 3)"
      ]
     },
     "execution_count": 11,
     "metadata": {},
     "output_type": "execute_result"
    }
   ],
   "source": [
    "dataset_female_train.shape"
   ]
  },
  {
   "cell_type": "code",
   "execution_count": 12,
   "metadata": {},
   "outputs": [],
   "source": [
    "body_male_train = dataset_male_train[['height','weight']]\n",
    "body_female_train = dataset_female_train[['height','weight']]"
   ]
  },
  {
   "cell_type": "markdown",
   "metadata": {},
   "source": [
    "贝叶斯分类开始"
   ]
  },
  {
   "cell_type": "code",
   "execution_count": 13,
   "metadata": {},
   "outputs": [
    {
     "name": "stdout",
     "output_type": "stream",
     "text": [
      "The cout of training data is: {'Total': 100, 'Male': 50, 'Female': 50}\n"
     ]
    }
   ],
   "source": [
    "#训练集完成可视化\n",
    "#先计算总数\n",
    "count = {}\n",
    "count['Total'] = dataset_train.shape[0]\n",
    "count['Male'] = dataset_male_train.shape[0]\n",
    "count['Female'] = dataset_female_train.shape[0]\n",
    "print('The cout of training data is:', count)"
   ]
  },
  {
   "cell_type": "markdown",
   "metadata": {},
   "source": [
    "最大似然估计\n",
    "\n",
    "使用正态分布，需要计算的内容有均值和方差（或标准差）"
   ]
  },
  {
   "cell_type": "code",
   "execution_count": 14,
   "metadata": {},
   "outputs": [
    {
     "name": "stdout",
     "output_type": "stream",
     "text": [
      "最大似然估计:\n",
      "男生参数:\n",
      "\t\t身高\t\t\t体重\n",
      "平均值\t137.760274566641\t57.91795779218791\n",
      "方差\t4862.5083883028765\t552.6063858235477\n",
      "\n",
      "女生参数:\n",
      "\t\t身高\t\t\t体重\n",
      "平均值\t127.46989618434571\t46.176657628860255\n",
      "方差\t4014.777270457238\t313.2768508250514\n"
     ]
    }
   ],
   "source": [
    "print('最大似然估计:')\n",
    "male_data = body_male_train.describe()\n",
    "female_data = body_female_train.describe()\n",
    "\n",
    "'''\n",
    "describe得到的元素有:\n",
    "count  元素个数\n",
    "mean   平均值、期望\n",
    "std    标准差\n",
    "min      \n",
    "25% \n",
    "50% \n",
    "75%      \n",
    "max\n",
    "'''\n",
    "\n",
    "male_result = {}\n",
    "male_result['height_mean'] = male_data['height'].mean()\n",
    "male_result['height_sig'] = male_data['height'].std()**2\n",
    "male_result['weight_mean'] = male_data['weight'].mean()\n",
    "male_result['weight_sig'] = male_data['weight'].std()**2\n",
    "\n",
    "female_result = {}\n",
    "female_result['height_mean'] = female_data['height'].mean()\n",
    "female_result['height_sig'] = female_data['height'].std()**2\n",
    "female_result['weight_mean'] = female_data['weight'].mean()\n",
    "female_result['weight_sig'] = female_data['weight'].std()**2\n",
    "\n",
    "print('男生参数:\\n\\t\\t身高\\t\\t\\t体重\\n平均值\\t{}\\t{}\\n方差\\t{}\\t{}\\n'. \n",
    "      format(male_result['height_mean'], male_result['weight_mean'], \n",
    "             male_result['height_sig'], male_result['weight_sig']))\n",
    "print('女生参数:\\n\\t\\t身高\\t\\t\\t体重\\n平均值\\t{}\\t{}\\n方差\\t{}\\t{}'. \n",
    "      format(female_result['height_mean'], female_result['weight_mean'], \n",
    "             female_result['height_sig'], female_result['weight_sig']))"
   ]
  },
  {
   "cell_type": "markdown",
   "metadata": {},
   "source": [
    "贝叶斯估计"
   ]
  },
  {
   "cell_type": "code",
   "execution_count": 15,
   "metadata": {},
   "outputs": [
    {
     "name": "stdout",
     "output_type": "stream",
     "text": [
      "\n",
      "*************************\n",
      "\n",
      "贝叶斯估计:\n",
      "男生参数:\n",
      "\t\t身高\t\t\t体重\n",
      "均值\t1.7723532077281405\t5.526658990592229\n",
      "\n",
      "女生参数:\n",
      "\t\t身高\t\t\t体重\n",
      "均值\t1.9807973387664375\t7.151019929015685\n",
      "\n"
     ]
    }
   ],
   "source": [
    "print('\\n*************************\\n')\n",
    "print('贝叶斯估计:')\n",
    "\n",
    "mean0 = 0\n",
    "sig0 = 1\n",
    "male_result['height_mean_bayes'] = (1/(count['Male']+male_result['height_sig']))*(body_male_train['height'].sum())\n",
    "male_result['weight_mean_bayes'] = (1/(count['Male']+male_result['weight_sig']))*(body_male_train['weight'].sum())\n",
    "\n",
    "female_result['height_mean_bayes'] = (1/(count['Female']+female_result['height_sig']))*(body_female_train['height'].sum())\n",
    "female_result['weight_mean_bayes'] = (1/(count['Female']+female_result['weight_sig']))*(body_female_train['weight'].sum())\n",
    "\n",
    "print('男生参数:\\n\\t\\t身高\\t\\t\\t体重\\n均值\\t{}\\t{}\\n'.\n",
    "      format(male_result['height_mean_bayes'], male_result['weight_mean_bayes']))\n",
    "print('女生参数:\\n\\t\\t身高\\t\\t\\t体重\\n均值\\t{}\\t{}\\n'.\n",
    "      format(female_result['height_mean_bayes'], female_result['weight_mean_bayes']))"
   ]
  },
  {
   "cell_type": "markdown",
   "metadata": {},
   "source": [
    "决策面"
   ]
  },
  {
   "cell_type": "code",
   "execution_count": 16,
   "metadata": {},
   "outputs": [],
   "source": [
    "#先验概率\n",
    "P_male = count['Male']/count['Total']\n",
    "P_female = 1-P_male"
   ]
  },
  {
   "cell_type": "code",
   "execution_count": 20,
   "metadata": {},
   "outputs": [],
   "source": [
    "#协方差矩阵\n",
    "male_array = np.array(body_male_train)\n",
    "female_array = np.array(body_female_train)\n",
    "sig_male = np.cov(male_array.T)\n",
    "sig_female = np.cov(female_array.T)"
   ]
  },
  {
   "cell_type": "code",
   "execution_count": 21,
   "metadata": {},
   "outputs": [],
   "source": [
    "#均值\n",
    "mean_male = np.array([male_result['height_mean'], male_result['weight_mean']]).reshape(-1, 1)\n",
    "mean_female = np.array([female_result['height_mean'], female_result['weight_mean']]).reshape(-1, 1)"
   ]
  },
  {
   "cell_type": "code",
   "execution_count": 26,
   "metadata": {},
   "outputs": [
    {
     "name": "stderr",
     "output_type": "stream",
     "text": [
      "C:\\Users\\95826\\AppData\\Local\\Temp\\ipykernel_15124\\170284738.py:15: DeprecationWarning: Conversion of an array with ndim > 0 to a scalar is deprecated, and will error in future. Ensure you extract a single element from your array before performing this operation. (Deprecated NumPy 1.25.)\n",
      "  sample[i,j] = 0.5 * (np.dot(np.dot((x-mean_male).T,np.linalg.inv(sig_male)), (x-mean_male)) -\\\n",
      "C:\\Users\\95826\\AppData\\Local\\Temp\\ipykernel_15124\\170284738.py:19: UserWarning: The following kwargs were not used by contour: 'color'\n",
      "  plt.contour(sample_height, sample_weight, sample, 0, color='green', linewidths=2)\n"
     ]
    },
    {
     "data": {
      "text/plain": [
       "<matplotlib.contour.QuadContourSet at 0x247dfc7aa90>"
      ]
     },
     "execution_count": 26,
     "metadata": {},
     "output_type": "execute_result"
    },
    {
     "data": {
      "image/png": "[encoded data removed]",
      "text/plain": [
       "<Figure size 640x480 with 1 Axes>"
      ]
     },
     "metadata": {},
     "output_type": "display_data"
    }
   ],
   "source": [
    "#先画好点\n",
    "plt.scatter(body_male_train[['height']], body_male_train[['weight']], alpha=0.6)\n",
    "plt.scatter(body_female_train[['height']], body_female_train[['weight']], alpha=0.6)\n",
    "plt.xlabel('height')\n",
    "plt.ylabel('weight')\n",
    "plt.title('training data')\n",
    "\n",
    "# 构建决策面\n",
    "sample_height = np.linspace(145, 200, 50)\n",
    "sample_weight = np.linspace(40, 100, 50)\n",
    "sample = np.zeros((50, 50))\n",
    "for i in range(50):\n",
    "    for j in range(50):\n",
    "        x = np.array([sample_height[i], sample_weight[j]]).reshape(-1, 1)\n",
    "        sample[i,j] = 0.5 * (np.dot(np.dot((x-mean_male).T,np.linalg.inv(sig_male)), (x-mean_male)) -\\\n",
    "        np.dot(np.dot((x-mean_female).T,np.linalg.inv(sig_female)), (x-mean_female))) +\\\n",
    "        0.5 * math.log(np.linalg.det(sig_male)/np.linalg.det(sig_female)) - math.log(P_male/P_female)\n",
    "\n",
    "plt.contour(sample_height, sample_weight, sample, 0, color='green', linewidths=2)"
   ]
  },
  {
   "cell_type": "code",
   "execution_count": null,
   "metadata": {},
   "outputs": [],
   "source": []
  }
 ],
 "metadata": {
  "kernelspec": {
   "display_name": "Python 3",
   "language": "python",
   "name": "python3"
  },
  "language_info": {
   "codemirror_mode": {
    "name": "ipython",
    "version": 3
   },
   "file_extension": ".py",
   "mimetype": "text/x-python",
   "name": "python",
   "nbconvert_exporter": "python",
   "pygments_lexer": "ipython3",
   "version": "3.11.5"
  }
 },
 "nbformat": 4,
 "nbformat_minor": 2
}
