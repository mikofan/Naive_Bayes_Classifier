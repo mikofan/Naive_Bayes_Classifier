{
 "cells": [
  {
   "cell_type": "code",
   "execution_count": 1,
   "metadata": {},
   "outputs": [],
   "source": [
    "import pandas as pd\n",
    "import matplotlib.pyplot as plt\n",
    "import numpy as np\n",
    "import math\n",
    "#下一行可以让数据集在单元格中嵌入化显示\n",
    "%matplotlib inline"
   ]
  },
  {
   "cell_type": "code",
   "execution_count": 2,
   "metadata": {},
   "outputs": [],
   "source": [
    "#读取数据\n",
    "dataset_test = pd.read_csv('data/testdata.csv')\n",
    "dataset_train = pd.read_csv('data/traindata.csv')"
   ]
  },
  {
   "cell_type": "code",
   "execution_count": 5,
   "metadata": {},
   "outputs": [],
   "source": [
    "#先分开取出训练集的男女数据\n",
    "dataset_male_train = dataset_train[dataset_train['gender'] == 'Male']\n",
    "dataset_female_train = dataset_train[dataset_train['gender'] == 'Female']\n",
    "\n",
    "#分别提取男女的身高体重特征\n",
    "body_male_train = dataset_male_train[['height','weight']]\n",
    "body_female_train = dataset_female_train[['height','weight']]"
   ]
  },
  {
   "cell_type": "code",
   "execution_count": 6,
   "metadata": {},
   "outputs": [
    {
     "name": "stdout",
     "output_type": "stream",
     "text": [
      "男生参数:\n",
      "\t\t身高\t\t\t体重\n",
      "平均值\t137.760274566641\t57.91795779218791\n",
      "方差\t4862.5083883028765\t552.6063858235477\n",
      "\n",
      "女生参数:\n",
      "\t\t身高\t\t\t体重\n",
      "平均值\t127.46989618434571\t46.176657628860255\n",
      "方差\t4014.777270457238\t313.2768508250514\n"
     ]
    }
   ],
   "source": [
    "#最大似然估计\n",
    "male_data = body_male_train.describe()\n",
    "female_data = body_female_train.describe()\n",
    "\n",
    "male_result = {}\n",
    "male_result['height_mean'] = male_data['height'].mean()\n",
    "male_result['height_sig'] = male_data['height'].std()\n",
    "male_result['weight_mean'] = male_data['weight'].mean()\n",
    "male_result['weight_sig'] = male_data['weight'].std()\n",
    "\n",
    "female_result = {}\n",
    "female_result['height_mean'] = female_data['height'].mean()\n",
    "female_result['height_sig'] = female_data['height'].std()\n",
    "female_result['weight_mean'] = female_data['weight'].mean()\n",
    "female_result['weight_sig'] = female_data['weight'].std()\n",
    "\n",
    "print('男生参数:\\n\\t\\t身高\\t\\t\\t体重\\n平均值\\t{}\\t{}\\n标准差\\t{}\\t{}\\n'. \n",
    "      format(male_result['height_mean'], male_result['weight_mean'], \n",
    "             male_result['height_sig'], male_result['weight_sig']))\n",
    "print('女生参数:\\n\\t\\t身高\\t\\t\\t体重\\n平均值\\t{}\\t{}\\n标准差\\t{}\\t{}'. \n",
    "      format(female_result['height_mean'], female_result['weight_mean'], \n",
    "             female_result['height_sig'], female_result['weight_sig']))"
   ]
  },
  {
   "cell_type": "code",
   "execution_count": 7,
   "metadata": {},
   "outputs": [
    {
     "name": "stdout",
     "output_type": "stream",
     "text": [
      "男生参数:\n",
      "\t\t身高\t\t\t体重\n",
      "均值\t1.7723532077281405\t5.526658990592229\n",
      "\n",
      "女生参数:\n",
      "\t\t身高\t\t\t体重\n",
      "均值\t1.9807973387664375\t7.151019929015685\n",
      "\n"
     ]
    }
   ],
   "source": [
    "#贝叶斯估计\n",
    "mean0 = 0\n",
    "sig0 = 1\n",
    "count = {}\n",
    "count['Total'] = dataset_train.shape[0]\n",
    "count['Male'] = dataset_male_train.shape[0]\n",
    "count['Female'] = dataset_female_train.shape[0]\n",
    "\n",
    "male_result['height_mean_bayes'] = (1/(count['Male']+male_result['height_sig']))*(body_male_train['height'].sum())\n",
    "male_result['weight_mean_bayes'] = (1/(count['Male']+male_result['weight_sig']))*(body_male_train['weight'].sum())\n",
    "\n",
    "female_result['height_mean_bayes'] = (1/(count['Female']+female_result['height_sig']))*(body_female_train['height'].sum())\n",
    "female_result['weight_mean_bayes'] = (1/(count['Female']+female_result['weight_sig']))*(body_female_train['weight'].sum())\n",
    "\n",
    "print('男生参数:\\n\\t\\t身高\\t\\t\\t体重\\n均值\\t{}\\t{}\\n'.\n",
    "      format(male_result['height_mean_bayes'], male_result['weight_mean_bayes']))\n",
    "print('女生参数:\\n\\t\\t身高\\t\\t\\t体重\\n均值\\t{}\\t{}\\n'.\n",
    "      format(female_result['height_mean_bayes'], female_result['weight_mean_bayes']))"
   ]
  },
  {
   "cell_type": "markdown",
   "metadata": {},
   "source": [
    "决策面"
   ]
  },
  {
   "cell_type": "code",
   "execution_count": 8,
   "metadata": {},
   "outputs": [],
   "source": [
    "#先验概率\n",
    "P_male = count['Male']/count['Total']\n",
    "P_female = 1-P_male"
   ]
  },
  {
   "cell_type": "code",
   "execution_count": 9,
   "metadata": {},
   "outputs": [],
   "source": [
    "#协方差矩阵\n",
    "male_array = np.array(body_male_train)\n",
    "female_array = np.array(body_female_train)\n",
    "sig_male = np.cov(male_array.T)\n",
    "sig_female = np.cov(female_array.T)"
   ]
  },
  {
   "cell_type": "code",
   "execution_count": 10,
   "metadata": {},
   "outputs": [],
   "source": [
    "#均值\n",
    "mean_male = np.array([male_result['height_mean'], male_result['weight_mean']]).reshape(-1, 1)\n",
    "mean_female = np.array([female_result['height_mean'], female_result['weight_mean']]).reshape(-1, 1)"
   ]
  },
  {
   "cell_type": "code",
   "execution_count": 16,
   "metadata": {},
   "outputs": [
    {
     "name": "stderr",
     "output_type": "stream",
     "text": [
      "C:\\Users\\95826\\AppData\\Local\\Temp\\ipykernel_15404\\1585330784.py:13: DeprecationWarning: Conversion of an array with ndim > 0 to a scalar is deprecated, and will error in future. Ensure you extract a single element from your array before performing this operation. (Deprecated NumPy 1.25.)\n",
      "  sample[i, j] = 1/2 * (a1 - a2) + 1/2 * a3 - a4\n"
     ]
    },
    {
     "data": {
      "text/plain": [
       "<matplotlib.contour.QuadContourSet at 0x1f916260cd0>"
      ]
     },
     "execution_count": 16,
     "metadata": {},
     "output_type": "execute_result"
    },
    {
     "data": {
      "image/png": "[encoded data removed]",
      "text/plain": [
       "<Figure size 640x480 with 1 Axes>"
      ]
     },
     "metadata": {},
     "output_type": "display_data"
    }
   ],
   "source": [
    "sample_height = np.linspace(145, 200)\n",
    "sample_weight = np.linspace(40, 100)\n",
    "sample = np.zeros((50, 50))\n",
    "for i in range(50):\n",
    "    for j in range(50):\n",
    "        '''sample[i,j] = 0.5 * (np.dot(np.dot((x-mean_male).T,np.linalg.inv(sig_male)), (x-mean_male)) -\\\n",
    "        np.dot(np.dot((x-mean_female).T,np.linalg.inv(sig_female)), (x-mean_female))) +\\\n",
    "        0.5 * math.log(np.linalg.det(sig_male)/np.linalg.det(sig_female)) - math.log(P_male/P_female)'''\n",
    "\n",
    "plt.contour(sample_height, sample_weight, sample, 0, linewidths=2)"
   ]
  },
  {
   "cell_type": "code",
   "execution_count": null,
   "metadata": {},
   "outputs": [],
   "source": []
  }
 ],
 "metadata": {
  "kernelspec": {
   "display_name": "Python 3",
   "language": "python",
   "name": "python3"
  },
  "language_info": {
   "codemirror_mode": {
    "name": "ipython",
    "version": 3
   },
   "file_extension": ".py",
   "mimetype": "text/x-python",
   "name": "python",
   "nbconvert_exporter": "python",
   "pygments_lexer": "ipython3",
   "version": "3.11.5"
  }
 },
 "nbformat": 4,
 "nbformat_minor": 2
}
