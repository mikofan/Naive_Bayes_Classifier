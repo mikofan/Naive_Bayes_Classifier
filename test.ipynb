{
 "cells": [
  {
   "cell_type": "code",
   "execution_count": 81,
   "metadata": {},
   "outputs": [],
   "source": [
    "import pandas as pd\n",
    "import matplotlib.pyplot as plt\n",
    "import numpy as np\n",
    "import math\n",
    "#下一行可以让数据集在单元格中嵌入化显示\n",
    "%matplotlib inline"
   ]
  },
  {
   "cell_type": "code",
   "execution_count": 82,
   "metadata": {},
   "outputs": [],
   "source": [
    "#读取数据\n",
    "dataset_test = pd.read_csv('data/testdata.csv')\n",
    "dataset_train = pd.read_csv('data/traindata.csv')"
   ]
  },
  {
   "cell_type": "code",
   "execution_count": 83,
   "metadata": {},
   "outputs": [
    {
     "data": {
      "text/html": [
       "<div>\n",
       "<style scoped>\n",
       "    .dataframe tbody tr th:only-of-type {\n",
       "        vertical-align: middle;\n",
       "    }\n",
       "\n",
       "    .dataframe tbody tr th {\n",
       "        vertical-align: top;\n",
       "    }\n",
       "\n",
       "    .dataframe thead th {\n",
       "        text-align: right;\n",
       "    }\n",
       "</style>\n",
       "<table border=\"1\" class=\"dataframe\">\n",
       "  <thead>\n",
       "    <tr style=\"text-align: right;\">\n",
       "      <th></th>\n",
       "      <th>height</th>\n",
       "      <th>weight</th>\n",
       "    </tr>\n",
       "  </thead>\n",
       "  <tbody>\n",
       "    <tr>\n",
       "      <th>0</th>\n",
       "      <td>175.0</td>\n",
       "      <td>65.0</td>\n",
       "    </tr>\n",
       "    <tr>\n",
       "      <th>1</th>\n",
       "      <td>172.0</td>\n",
       "      <td>64.3</td>\n",
       "    </tr>\n",
       "    <tr>\n",
       "      <th>2</th>\n",
       "      <td>176.0</td>\n",
       "      <td>63.0</td>\n",
       "    </tr>\n",
       "    <tr>\n",
       "      <th>3</th>\n",
       "      <td>175.0</td>\n",
       "      <td>60.0</td>\n",
       "    </tr>\n",
       "    <tr>\n",
       "      <th>4</th>\n",
       "      <td>160.0</td>\n",
       "      <td>75.0</td>\n",
       "    </tr>\n",
       "  </tbody>\n",
       "</table>\n",
       "</div>"
      ],
      "text/plain": [
       "   height  weight\n",
       "0   175.0    65.0\n",
       "1   172.0    64.3\n",
       "2   176.0    63.0\n",
       "3   175.0    60.0\n",
       "4   160.0    75.0"
      ]
     },
     "execution_count": 83,
     "metadata": {},
     "output_type": "execute_result"
    }
   ],
   "source": [
    "#先分开取出训练集的男女数据\n",
    "dataset_male_train = dataset_train[dataset_train['gender'] == 'Male']\n",
    "dataset_female_train = dataset_train[dataset_train['gender'] == 'Female']\n",
    "\n",
    "#分别提取男女的身高体重特征\n",
    "body_male_train = dataset_male_train[['height','weight']]\n",
    "body_female_train = dataset_female_train[['height','weight']]\n",
    "body_male_train.head()"
   ]
  },
  {
   "cell_type": "code",
   "execution_count": 84,
   "metadata": {},
   "outputs": [
    {
     "name": "stdout",
     "output_type": "stream",
     "text": [
      "男生参数:\n",
      "\t\t身高\t\t\t体重\n",
      "平均值\t174.13400000000001\t66.60799999999999\n",
      "标准差\t4.573196533127813\t8.485662337503328\n",
      "\n",
      "女生参数:\n",
      "\t\t身高\t\t\t体重\n",
      "平均值\t\t161.03\t\t\t51.956\n",
      "标准差\t4.479169474765771\t5.457261030882037\n"
     ]
    }
   ],
   "source": [
    "#最大似然估计\n",
    "male_data = body_male_train.describe()\n",
    "female_data = body_female_train.describe()\n",
    "\n",
    "male_result = {}\n",
    "male_result['height_mean'] = body_male_train['height'].mean()\n",
    "male_result['height_sig'] = body_male_train['height'].std()\n",
    "male_result['weight_mean'] = body_male_train['weight'].mean()\n",
    "male_result['weight_sig'] = body_male_train['weight'].std()\n",
    "\n",
    "female_result = {}\n",
    "female_result['height_mean'] = body_female_train['height'].mean()\n",
    "female_result['height_sig'] = body_female_train['height'].std()\n",
    "female_result['weight_mean'] = body_female_train['weight'].mean()\n",
    "female_result['weight_sig'] = body_female_train['weight'].std()\n",
    "\n",
    "print('男生参数:\\n\\t\\t身高\\t\\t\\t体重\\n平均值\\t{}\\t{}\\n标准差\\t{}\\t{}\\n'. \n",
    "      format(male_result['height_mean'], male_result['weight_mean'], \n",
    "             male_result['height_sig'], male_result['weight_sig']))\n",
    "print('女生参数:\\n\\t\\t身高\\t\\t\\t体重\\n平均值\\t\\t{}\\t\\t\\t{}\\n标准差\\t{}\\t{}'. \n",
    "      format(female_result['height_mean'], female_result['weight_mean'], \n",
    "             female_result['height_sig'], female_result['weight_sig']))"
   ]
  },
  {
   "cell_type": "code",
   "execution_count": 85,
   "metadata": {},
   "outputs": [
    {
     "name": "stdout",
     "output_type": "stream",
     "text": [
      "男生参数:\n",
      "\t\t身高\t\t\t体重\n",
      "均值\t122.7780757652213\t27.296914074543523\n",
      "\n",
      "女生参数:\n",
      "\t\t身高\t\t\t体重\n",
      "均值\t114.91806931666416\t32.56135262161298\n",
      "\n"
     ]
    }
   ],
   "source": [
    "#贝叶斯估计\n",
    "mean0 = 0\n",
    "sig0 = 1\n",
    "count = {}\n",
    "count['Total'] = dataset_train.shape[0]\n",
    "count['Male'] = dataset_male_train.shape[0]\n",
    "count['Female'] = dataset_female_train.shape[0]\n",
    "\n",
    "\n",
    "male_result['height_mean_bayes'] = (1/(count['Male']+male_result['height_sig']**2))*(body_male_train['height'].sum())\n",
    "male_result['weight_mean_bayes'] = (1/(count['Male']+male_result['weight_sig']**2))*(body_male_train['weight'].sum())\n",
    "\n",
    "female_result['height_mean_bayes'] = (1/(count['Female']+female_result['height_sig']**2))*(body_female_train['height'].sum())\n",
    "female_result['weight_mean_bayes'] = (1/(count['Female']+female_result['weight_sig']**2))*(body_female_train['weight'].sum())\n",
    "\n",
    "print('男生参数:\\n\\t\\t身高\\t\\t\\t体重\\n均值\\t{}\\t{}\\n'.\n",
    "      format(male_result['height_mean_bayes'], male_result['weight_mean_bayes']))\n",
    "print('女生参数:\\n\\t\\t身高\\t\\t\\t体重\\n均值\\t{}\\t{}\\n'.\n",
    "      format(female_result['height_mean_bayes'], female_result['weight_mean_bayes']))"
   ]
  },
  {
   "cell_type": "markdown",
   "metadata": {},
   "source": [
    "决策面"
   ]
  },
  {
   "cell_type": "code",
   "execution_count": 86,
   "metadata": {},
   "outputs": [],
   "source": [
    "#先验概率\n",
    "P_male = count['Male']/count['Total']\n",
    "P_female = 1-P_male"
   ]
  },
  {
   "cell_type": "code",
   "execution_count": 87,
   "metadata": {},
   "outputs": [],
   "source": [
    "#协方差矩阵\n",
    "male_array = np.array(body_male_train)\n",
    "female_array = np.array(body_female_train)\n",
    "sig_male = np.cov(male_array.T)\n",
    "sig_female = np.cov(female_array.T)\n",
    "\n",
    "\n",
    "sig_female[0][1] = 0\n",
    "sig_female[1][0] = 0\n",
    "sig_male[0][1] = 0\n",
    "sig_male[1][0] = 0\n"
   ]
  },
  {
   "cell_type": "code",
   "execution_count": 88,
   "metadata": {},
   "outputs": [],
   "source": [
    "#均值\n",
    "mean_male = np.array([male_result['height_mean'], male_result['weight_mean']]).reshape(-1, 1)\n",
    "mean_female = np.array([female_result['height_mean'], female_result['weight_mean']]).reshape(-1, 1)"
   ]
  },
  {
   "cell_type": "code",
   "execution_count": 89,
   "metadata": {},
   "outputs": [],
   "source": [
    "#用来预测性别，vlue>0为女，<0为男\n",
    "#point:         要预测的点\n",
    "#mean_male      男性的均值矩阵\n",
    "#mean_female    女性的均值矩阵\n",
    "#sig_male       男性的方差与协方差矩阵\n",
    "#sig_female     女性的方差与协方差矩阵\n",
    "#P_male         男性先验概率\n",
    "#P_female       女性先验概率\n",
    "def Predict_sex(point, mean_male, mean_female, sig_male, sig_female, P_male, P_female):\n",
    "    value = 0.5 * (np.dot(np.dot((point-mean_male).T,np.linalg.inv(sig_male)), (point-mean_male))[0][0] -\\\n",
    "        np.dot(np.dot((point-mean_female).T,np.linalg.inv(sig_female)), (point-mean_female))[0][0]) +\\\n",
    "        0.5 * math.log(np.linalg.det(sig_female)/np.linalg.det(sig_male)) - math.log(P_male/P_female) \n",
    "    return value"
   ]
  },
  {
   "cell_type": "code",
   "execution_count": 90,
   "metadata": {},
   "outputs": [
    {
     "name": "stdout",
     "output_type": "stream",
     "text": [
      "身高为180,体重120, 预测性别为:男\n"
     ]
    },
    {
     "data": {
      "image/png": "[encoded data removed]",
      "text/plain": [
       "<Figure size 640x480 with 1 Axes>"
      ]
     },
     "metadata": {},
     "output_type": "display_data"
    }
   ],
   "source": [
    "#划分决策面\n",
    "sample_height = np.linspace(145, 200, 100)\n",
    "sample_weight = np.linspace(40, 125, 100)\n",
    "sample = np.zeros((100, 100))\n",
    "for i in range(100):\n",
    "    for j in range(100):\n",
    "        x = np.array([sample_height[i], sample_weight[j]]).reshape(-1,1)\n",
    "        '''x例子[[145.]\n",
    "                 [ 40.]]'''\n",
    "        sample[i,j] = Predict_sex(x, mean_male, mean_female, sig_male, sig_female, P_male, P_female)\n",
    "\n",
    "plt.scatter(body_male_train[['height']], body_male_train[['weight']], alpha=0.6)\n",
    "plt.scatter(body_female_train[['height']], body_female_train[['weight']], alpha=0.6)\n",
    "plt.xlabel('height')\n",
    "plt.ylabel('weight')\n",
    "plt.title('training data')\n",
    "plt.contour(sample_height, sample_weight, sample, 0, linewidths=2)\n",
    "\n",
    "#身高为180,体重120的性别\n",
    "point0 = ([[180],[120]])\n",
    "plt.scatter(point0[0], point0[1], alpha=0.6, color='red')\n",
    "sex_point0 = Predict_sex(point0, mean_male, mean_female, sig_male, sig_female, P_male, P_female)\n",
    "if sex_point0>0:\n",
    "    print('身高为180,体重120, 预测性别为:女')\n",
    "else:\n",
    "    print('身高为180,体重120, 预测性别为:男')\n",
    "\n",
    "plt.show()\n"
   ]
  },
  {
   "cell_type": "markdown",
   "metadata": {},
   "source": [
    "开始预测测试集，查看准确率"
   ]
  },
  {
   "cell_type": "code",
   "execution_count": 91,
   "metadata": {},
   "outputs": [
    {
     "data": {
      "text/html": [
       "<div>\n",
       "<style scoped>\n",
       "    .dataframe tbody tr th:only-of-type {\n",
       "        vertical-align: middle;\n",
       "    }\n",
       "\n",
       "    .dataframe tbody tr th {\n",
       "        vertical-align: top;\n",
       "    }\n",
       "\n",
       "    .dataframe thead th {\n",
       "        text-align: right;\n",
       "    }\n",
       "</style>\n",
       "<table border=\"1\" class=\"dataframe\">\n",
       "  <thead>\n",
       "    <tr style=\"text-align: right;\">\n",
       "      <th></th>\n",
       "      <th>height</th>\n",
       "      <th>weight</th>\n",
       "    </tr>\n",
       "  </thead>\n",
       "  <tbody>\n",
       "    <tr>\n",
       "      <th>0</th>\n",
       "      <td>180</td>\n",
       "      <td>72.0</td>\n",
       "    </tr>\n",
       "    <tr>\n",
       "      <th>1</th>\n",
       "      <td>169</td>\n",
       "      <td>68.0</td>\n",
       "    </tr>\n",
       "    <tr>\n",
       "      <th>2</th>\n",
       "      <td>181</td>\n",
       "      <td>72.0</td>\n",
       "    </tr>\n",
       "    <tr>\n",
       "      <th>3</th>\n",
       "      <td>175</td>\n",
       "      <td>61.0</td>\n",
       "    </tr>\n",
       "    <tr>\n",
       "      <th>4</th>\n",
       "      <td>172</td>\n",
       "      <td>55.0</td>\n",
       "    </tr>\n",
       "  </tbody>\n",
       "</table>\n",
       "</div>"
      ],
      "text/plain": [
       "   height  weight\n",
       "0     180    72.0\n",
       "1     169    68.0\n",
       "2     181    72.0\n",
       "3     175    61.0\n",
       "4     172    55.0"
      ]
     },
     "execution_count": 91,
     "metadata": {},
     "output_type": "execute_result"
    }
   ],
   "source": [
    "#取出测试集测试准确率\n",
    "body_test = dataset_test[['height','weight']]\n",
    "sex_test = dataset_test[['gender']]\n",
    "body_test.head()"
   ]
  },
  {
   "cell_type": "code",
   "execution_count": 92,
   "metadata": {},
   "outputs": [],
   "source": [
    "predict_result = []\n",
    "#获取测试集的预测结果\n",
    "for point in body_test.values:\n",
    "    x = np.array(point).reshape(-1,1)\n",
    "    if Predict_sex(x, mean_male, mean_female, sig_male, sig_female, P_male, P_female) > 0:\n",
    "        predict_result.append(['Female'])\n",
    "    else:\n",
    "        predict_result.append(['Male'])"
   ]
  },
  {
   "cell_type": "code",
   "execution_count": 93,
   "metadata": {},
   "outputs": [
    {
     "name": "stdout",
     "output_type": "stream",
     "text": [
      "经过测试集的测试，预测的准确率为：89.00 %\n"
     ]
    }
   ],
   "source": [
    "# 分析比较预测的结果\n",
    "count_predic_correct = 0\n",
    "count_predic_wrong = 0\n",
    "sex_array = sex_test.values\n",
    "\n",
    "for i in range(len(sex_array)):\n",
    "    if predict_result[i][0] == sex_array[i][0]:\n",
    "        count_predic_correct += 1\n",
    "    else:\n",
    "        count_predic_wrong += 1\n",
    "        \n",
    "accuracy = count_predic_correct/(count_predic_correct + count_predic_wrong)*100\n",
    "print('经过测试集的测试，预测的准确率为：%.2f'% accuracy, '%')"
   ]
  }
 ],
 "metadata": {
  "kernelspec": {
   "display_name": "Python 3",
   "language": "python",
   "name": "python3"
  },
  "language_info": {
   "codemirror_mode": {
    "name": "ipython",
    "version": 3
   },
   "file_extension": ".py",
   "mimetype": "text/x-python",
   "name": "python",
   "nbconvert_exporter": "python",
   "pygments_lexer": "ipython3",
   "version": "3.11.5"
  }
 },
 "nbformat": 4,
 "nbformat_minor": 2
}
